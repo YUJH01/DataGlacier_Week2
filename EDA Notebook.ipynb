{
 "cells": [
  {
   "cell_type": "markdown",
   "source": [
    "Read data from file."
   ],
   "metadata": {
    "collapsed": false
   }
  },
  {
   "cell_type": "code",
   "execution_count": 1,
   "metadata": {
    "collapsed": true
   },
   "outputs": [],
   "source": [
    "import pandas as pd\n",
    "import numpy as np"
   ]
  },
  {
   "cell_type": "code",
   "execution_count": 11,
   "outputs": [],
   "source": [
    "cab_data = pd.read_csv(\"Cab_Data.csv\")\n",
    "city = pd.read_csv(\"City.csv\")\n",
    "customer_id = pd.read_csv(\"Customer_ID.csv\")\n",
    "transaction_id = pd.read_csv(\"Transaction_ID.csv\")"
   ],
   "metadata": {
    "collapsed": false
   }
  },
  {
   "cell_type": "markdown",
   "source": [
    "Extract `Pink Cab` and `Yellow Cab` data from `cab_data`."
   ],
   "metadata": {
    "collapsed": false
   }
  },
  {
   "cell_type": "code",
   "execution_count": 18,
   "outputs": [],
   "source": [
    "pink = cab_data[cab_data[\"Company\"] == \"Pink Cab\"]\n",
    "yellow = cab_data[cab_data[\"Company\"] == \"Yellow Cab\"]"
   ],
   "metadata": {
    "collapsed": false
   }
  },
  {
   "cell_type": "markdown",
   "source": [
    "Average summary data from the two companies."
   ],
   "metadata": {
    "collapsed": false
   }
  },
  {
   "cell_type": "code",
   "execution_count": 25,
   "outputs": [],
   "source": [
    "pink_summary = [\"Pink Cab\", pink[\"KM Travelled\"].mean(), pink[\"Price Charged\"].mean(), pink[\"Cost of Trip\"].mean()]\n",
    "yellow_summary = [\"Yellow Cab\", yellow[\"KM Travelled\"].mean(), yellow[\"Price Charged\"].mean(), yellow[\"Cost of Trip\"].mean()]"
   ],
   "metadata": {
    "collapsed": false
   }
  },
  {
   "cell_type": "code",
   "execution_count": 29,
   "outputs": [
    {
     "data": {
      "text/plain": "      Company  KM Travelled  Price Charged  Cost of Trip\n0    Pink Cab     22.559917     310.800856    248.148682\n1  Yellow Cab     22.569517     458.181990    297.922004",
      "text/html": "<div>\n<style scoped>\n    .dataframe tbody tr th:only-of-type {\n        vertical-align: middle;\n    }\n\n    .dataframe tbody tr th {\n        vertical-align: top;\n    }\n\n    .dataframe thead th {\n        text-align: right;\n    }\n</style>\n<table border=\"1\" class=\"dataframe\">\n  <thead>\n    <tr style=\"text-align: right;\">\n      <th></th>\n      <th>Company</th>\n      <th>KM Travelled</th>\n      <th>Price Charged</th>\n      <th>Cost of Trip</th>\n    </tr>\n  </thead>\n  <tbody>\n    <tr>\n      <th>0</th>\n      <td>Pink Cab</td>\n      <td>22.559917</td>\n      <td>310.800856</td>\n      <td>248.148682</td>\n    </tr>\n    <tr>\n      <th>1</th>\n      <td>Yellow Cab</td>\n      <td>22.569517</td>\n      <td>458.181990</td>\n      <td>297.922004</td>\n    </tr>\n  </tbody>\n</table>\n</div>"
     },
     "execution_count": 29,
     "metadata": {},
     "output_type": "execute_result"
    }
   ],
   "source": [
    "summary = pd.DataFrame([pink_summary, yellow_summary], columns=[\"Company\", \"KM Travelled\", \"Price Charged\", \"Cost of Trip\"])\n",
    "summary"
   ],
   "metadata": {
    "collapsed": false
   }
  },
  {
   "cell_type": "markdown",
   "source": [
    "From the table above, we have:\n",
    "> KM Travelled: Almost the same.\n",
    "> Price Charged: Yellow Cab charges higher.\n",
    "> Cost of Trip: Yellow ab has a higher cost."
   ],
   "metadata": {
    "collapsed": false
   }
  },
  {
   "cell_type": "markdown",
   "source": [
    "Then, we calculate the numbers of orders and total profits for the two companies."
   ],
   "metadata": {
    "collapsed": false
   }
  },
  {
   "cell_type": "code",
   "execution_count": 36,
   "outputs": [
    {
     "name": "stdout",
     "output_type": "stream",
     "text": [
      "Pink Cab has 84711 orders.\n",
      "Yellow Cab has 274681 orders.\n"
     ]
    }
   ],
   "source": [
    "pink_orders = len(pink)\n",
    "yellow_orders = len(yellow)\n",
    "\n",
    "print(f\"Pink Cab has {pink_orders} orders.\\nYellow Cab has {yellow_orders} orders.\")"
   ],
   "metadata": {
    "collapsed": false
   }
  },
  {
   "cell_type": "code",
   "execution_count": 37,
   "outputs": [
    {
     "name": "stdout",
     "output_type": "stream",
     "text": [
      "Pink Cab's profits: 62.65217410961977.\n",
      "Yellow Cab's profits: 160.25998584103016.\n"
     ]
    }
   ],
   "source": [
    "pink_profits = (pink[\"Price Charged\"] - pink[\"Cost of Trip\"]).mean()\n",
    "yellow_profits = (yellow[\"Price Charged\"] - yellow[\"Cost of Trip\"]).mean()\n",
    "\n",
    "print(f\"Pink Cab's profits: {pink_profits}.\\nYellow Cab's profits: {yellow_profits}.\")"
   ],
   "metadata": {
    "collapsed": false
   }
  }
 ],
 "metadata": {
  "kernelspec": {
   "display_name": "Python 3",
   "language": "python",
   "name": "python3"
  },
  "language_info": {
   "codemirror_mode": {
    "name": "ipython",
    "version": 2
   },
   "file_extension": ".py",
   "mimetype": "text/x-python",
   "name": "python",
   "nbconvert_exporter": "python",
   "pygments_lexer": "ipython2",
   "version": "2.7.6"
  }
 },
 "nbformat": 4,
 "nbformat_minor": 0
}
